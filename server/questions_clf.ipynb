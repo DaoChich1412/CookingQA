{
 "cells": [
  {
   "cell_type": "code",
   "execution_count": 1,
   "metadata": {},
   "outputs": [],
   "source": [
    "import pandas as pd\n",
    "import numpy as np\n",
    "from nltk.tokenize import word_tokenize\n",
    "from nltk.corpus import stopwords\n",
    "from string import punctuation\n",
    "from gensim.models import Word2Vec, KeyedVectors\n",
    "from sklearn.linear_model import LogisticRegression\n",
    "from sklearn.model_selection import StratifiedShuffleSplit\n",
    "from sklearn.metrics import classification_report\n",
    "from sklearn.metrics import accuracy_score\n",
    "from sklearn.svm import LinearSVC, SVC\n",
    "from sklearn.model_selection import cross_val_score"
   ]
  },
  {
   "cell_type": "markdown",
   "metadata": {},
   "source": [
    "### Load and overview data"
   ]
  },
  {
   "cell_type": "code",
   "execution_count": 2,
   "metadata": {},
   "outputs": [],
   "source": [
    "data = pd.read_csv(\"datasets/recipes/all_questions.csv\")"
   ]
  },
  {
   "cell_type": "code",
   "execution_count": 3,
   "metadata": {},
   "outputs": [
    {
     "data": {
      "text/plain": [
       "1472"
      ]
     },
     "execution_count": 3,
     "metadata": {},
     "output_type": "execute_result"
    }
   ],
   "source": [
    "len(data)"
   ]
  },
  {
   "cell_type": "code",
   "execution_count": 10,
   "metadata": {},
   "outputs": [
    {
     "data": {
      "text/plain": [
       "DIR      269\n",
       "NAME     231\n",
       "ING      218\n",
       "QTY      171\n",
       "ALL      164\n",
       "TIME     135\n",
       "EQUIP    132\n",
       "OBJ       98\n",
       "NUT       54\n",
       "Name: Label, dtype: int64"
      ]
     },
     "execution_count": 10,
     "metadata": {},
     "output_type": "execute_result"
    }
   ],
   "source": [
    "data[\"Label\"].value_counts()"
   ]
  },
  {
   "cell_type": "code",
   "execution_count": 5,
   "metadata": {},
   "outputs": [
    {
     "data": {
      "text/html": [
       "<div>\n",
       "<style scoped>\n",
       "    .dataframe tbody tr th:only-of-type {\n",
       "        vertical-align: middle;\n",
       "    }\n",
       "\n",
       "    .dataframe tbody tr th {\n",
       "        vertical-align: top;\n",
       "    }\n",
       "\n",
       "    .dataframe thead th {\n",
       "        text-align: right;\n",
       "    }\n",
       "</style>\n",
       "<table border=\"1\" class=\"dataframe\">\n",
       "  <thead>\n",
       "    <tr style=\"text-align: right;\">\n",
       "      <th></th>\n",
       "      <th>Question</th>\n",
       "      <th>Label</th>\n",
       "      <th>Tagged</th>\n",
       "    </tr>\n",
       "  </thead>\n",
       "  <tbody>\n",
       "    <tr>\n",
       "      <th>0</th>\n",
       "      <td>how much wine should be used in simmering Crea...</td>\n",
       "      <td>QTY</td>\n",
       "      <td>how much &lt;ing&gt;wine&lt;/ing&gt; should be used in &lt;me...</td>\n",
       "    </tr>\n",
       "    <tr>\n",
       "      <th>1</th>\n",
       "      <td>How long for cooking pumpkin spice bread?</td>\n",
       "      <td>TIME</td>\n",
       "      <td>How long for cooking &lt;name&gt;pumpkin&lt;/name&gt; &lt;nam...</td>\n",
       "    </tr>\n",
       "    <tr>\n",
       "      <th>2</th>\n",
       "      <td>Any good recipes to make white rice, flour and...</td>\n",
       "      <td>NAME</td>\n",
       "      <td>Any good recipes to make &lt;ing&gt;white&lt;/ing&gt; &lt;ing...</td>\n",
       "    </tr>\n",
       "    <tr>\n",
       "      <th>3</th>\n",
       "      <td>what is in Southern-Style Egg Salad?</td>\n",
       "      <td>ING</td>\n",
       "      <td>NaN</td>\n",
       "    </tr>\n",
       "    <tr>\n",
       "      <th>4</th>\n",
       "      <td>what are  interesting Russian recipes to try ?</td>\n",
       "      <td>NAME</td>\n",
       "      <td>what are interesting &lt;type&gt;Russian&lt;/type&gt; reci...</td>\n",
       "    </tr>\n",
       "  </tbody>\n",
       "</table>\n",
       "</div>"
      ],
      "text/plain": [
       "                                            Question Label  \\\n",
       "0  how much wine should be used in simmering Crea...   QTY   \n",
       "1          How long for cooking pumpkin spice bread?  TIME   \n",
       "2  Any good recipes to make white rice, flour and...  NAME   \n",
       "3               what is in Southern-Style Egg Salad?   ING   \n",
       "4     what are  interesting Russian recipes to try ?  NAME   \n",
       "\n",
       "                                              Tagged  \n",
       "0  how much <ing>wine</ing> should be used in <me...  \n",
       "1  How long for cooking <name>pumpkin</name> <nam...  \n",
       "2  Any good recipes to make <ing>white</ing> <ing...  \n",
       "3                                                NaN  \n",
       "4  what are interesting <type>Russian</type> reci...  "
      ]
     },
     "execution_count": 5,
     "metadata": {},
     "output_type": "execute_result"
    }
   ],
   "source": [
    "data[:5]"
   ]
  },
  {
   "cell_type": "code",
   "execution_count": 6,
   "metadata": {},
   "outputs": [
    {
     "name": "stdout",
     "output_type": "stream",
     "text": [
      "<class 'pandas.core.frame.DataFrame'>\n",
      "RangeIndex: 1472 entries, 0 to 1471\n",
      "Data columns (total 3 columns):\n",
      " #   Column    Non-Null Count  Dtype \n",
      "---  ------    --------------  ----- \n",
      " 0   Question  1472 non-null   object\n",
      " 1   Label     1472 non-null   object\n",
      " 2   Tagged    1374 non-null   object\n",
      "dtypes: object(3)\n",
      "memory usage: 34.6+ KB\n"
     ]
    }
   ],
   "source": [
    "data.info()"
   ]
  },
  {
   "cell_type": "markdown",
   "metadata": {},
   "source": [
    "### Split train-test data"
   ]
  },
  {
   "cell_type": "code",
   "execution_count": 4,
   "metadata": {},
   "outputs": [],
   "source": [
    "X = data[\"Question\"]\n",
    "y = data[\"Label\"]"
   ]
  },
  {
   "cell_type": "code",
   "execution_count": 5,
   "metadata": {},
   "outputs": [],
   "source": [
    "split = StratifiedShuffleSplit(n_splits=1, test_size=0.2, random_state=42)\n",
    "for train_index, test_index in split.split(data, data[\"Label\"]):\n",
    "    X_train = X.loc[train_index]\n",
    "    X_test = X.loc[test_index]\n",
    "    y_train = y.loc[train_index]\n",
    "    y_test = y.loc[test_index]"
   ]
  },
  {
   "cell_type": "code",
   "execution_count": 8,
   "metadata": {},
   "outputs": [
    {
     "data": {
      "text/plain": [
       "1177"
      ]
     },
     "execution_count": 8,
     "metadata": {},
     "output_type": "execute_result"
    }
   ],
   "source": [
    "len(y_train)"
   ]
  },
  {
   "cell_type": "code",
   "execution_count": 10,
   "metadata": {},
   "outputs": [
    {
     "data": {
      "text/plain": [
       "295"
      ]
     },
     "execution_count": 10,
     "metadata": {},
     "output_type": "execute_result"
    }
   ],
   "source": [
    "len(y_test)"
   ]
  },
  {
   "cell_type": "code",
   "execution_count": 11,
   "metadata": {
    "scrolled": true
   },
   "outputs": [
    {
     "data": {
      "text/plain": [
       "DIR      0.182668\n",
       "NAME     0.157179\n",
       "ING      0.147833\n",
       "QTY      0.116398\n",
       "ALL      0.111300\n",
       "TIME     0.091759\n",
       "EQUIP    0.090059\n",
       "OBJ      0.066270\n",
       "NUT      0.036534\n",
       "Name: Label, dtype: float64"
      ]
     },
     "execution_count": 11,
     "metadata": {},
     "output_type": "execute_result"
    }
   ],
   "source": [
    "y_train.value_counts()/len(y_train)"
   ]
  },
  {
   "cell_type": "code",
   "execution_count": 12,
   "metadata": {},
   "outputs": [
    {
     "data": {
      "text/plain": [
       "DIR      0.183051\n",
       "NAME     0.155932\n",
       "ING      0.149153\n",
       "QTY      0.115254\n",
       "ALL      0.111864\n",
       "TIME     0.091525\n",
       "EQUIP    0.088136\n",
       "OBJ      0.067797\n",
       "NUT      0.037288\n",
       "Name: Label, dtype: float64"
      ]
     },
     "execution_count": 12,
     "metadata": {},
     "output_type": "execute_result"
    }
   ],
   "source": [
    "y_test.value_counts()/len(y_test)"
   ]
  },
  {
   "cell_type": "markdown",
   "metadata": {},
   "source": [
    "### Pre-processing data"
   ]
  },
  {
   "cell_type": "code",
   "execution_count": 14,
   "metadata": {},
   "outputs": [],
   "source": [
    "mystopwords = set(stopwords.words(\"english\"))\n",
    "for word in ['what','where','when','which','how','why','who']:\n",
    "    mystopwords.remove(word)"
   ]
  },
  {
   "cell_type": "code",
   "execution_count": 6,
   "metadata": {},
   "outputs": [],
   "source": [
    "from nltk.tag import pos_tag\n",
    "from nltk.stem import WordNetLemmatizer\n",
    "lemmatizer = WordNetLemmatizer()\n",
    "remove_tags = [\"UH\",\"SYM\",\".\",\"TO\"]\n",
    "def clean(text):\n",
    "    tokens = word_tokenize(text)\n",
    "    word_tags = pos_tag(tokens)\n",
    "    return [lemmatizer.lemmatize(word_tag[0].lower()) for word_tag in word_tags if word_tag[1] not in remove_tags]\n",
    "def preprocess_corpus(texts):\n",
    "    return [clean(text) for text in texts]"
   ]
  },
  {
   "cell_type": "code",
   "execution_count": 7,
   "metadata": {},
   "outputs": [],
   "source": [
    "X_train_processed = preprocess_corpus(X_train)\n",
    "X_test_processed = preprocess_corpus(X_test)"
   ]
  },
  {
   "cell_type": "code",
   "execution_count": 19,
   "metadata": {
    "scrolled": true
   },
   "outputs": [
    {
     "data": {
      "text/plain": [
       "[['what',\n",
       "  'can',\n",
       "  'you',\n",
       "  'tell',\n",
       "  'me',\n",
       "  'about',\n",
       "  'balsamic',\n",
       "  'rhubarb',\n",
       "  'compote'],\n",
       " ['quantity', 'of', 'head', 'cabbage', 'fry', 'stuffed', 'pepper', 'soup'],\n",
       " ['how', 'long', 'for', 'baking', 'zesty', 'barbeque', 'marinade'],\n",
       " ['what', 'could', 'i', 'use', 'on', 'mediterranean', 'seafood', 'medley'],\n",
       " ['any', 'good', 'recipe', 'for', 'preparing', 'egg'],\n",
       " ['buffalo-style', 'pizza', 'recipe'],\n",
       " ['how',\n",
       "  'many',\n",
       "  'cup',\n",
       "  'of',\n",
       "  'butter',\n",
       "  'need',\n",
       "  'grill',\n",
       "  'party',\n",
       "  'lemonade',\n",
       "  'dish'],\n",
       " ['decorator', 'frosting', 'i', '-', 'the', 'best', 'way', 'grill', 'it'],\n",
       " ['how',\n",
       "  'long',\n",
       "  'doe',\n",
       "  'it',\n",
       "  'take',\n",
       "  'cook',\n",
       "  'dish',\n",
       "  'antioxidant',\n",
       "  'trail',\n",
       "  'mix'],\n",
       " ['the',\n",
       "  'amount',\n",
       "  'of',\n",
       "  'small',\n",
       "  'zucchini',\n",
       "  'grill',\n",
       "  'buttermilk',\n",
       "  'banana',\n",
       "  'bread',\n",
       "  'is',\n",
       "  'how',\n",
       "  'much']]"
      ]
     },
     "execution_count": 19,
     "metadata": {},
     "output_type": "execute_result"
    }
   ],
   "source": [
    "X_train_processed[:10]"
   ]
  },
  {
   "cell_type": "markdown",
   "metadata": {},
   "source": [
    "### Feature Engineering"
   ]
  },
  {
   "cell_type": "code",
   "execution_count": 8,
   "metadata": {},
   "outputs": [],
   "source": [
    "w2v_model = KeyedVectors.load_word2vec_format(\"datasets/GoogleEmbedding/GoogleNews-vectors-negative300.bin\", binary=True)"
   ]
  },
  {
   "cell_type": "code",
   "execution_count": 9,
   "metadata": {},
   "outputs": [],
   "source": [
    "DIMENSION = 300 \n",
    "def embedding_text(tokens): \n",
    "    embedding = np.zeros(DIMENSION)\n",
    "    for token in tokens:\n",
    "        if token in w2v_model:            \n",
    "            embedding += w2v_model[token]\n",
    "    embedding = embedding/len(tokens)\n",
    "    return embedding\n",
    "X_train_vectors = []\n",
    "X_test_vectors = []\n",
    "for tokens in X_train_processed:\n",
    "    X_train_vectors.append(embedding_text(tokens))\n",
    "for tokens in X_test_processed:\n",
    "    X_test_vectors.append(embedding_text(tokens))"
   ]
  },
  {
   "cell_type": "markdown",
   "metadata": {},
   "source": [
    "### Modeling"
   ]
  },
  {
   "cell_type": "code",
   "execution_count": 21,
   "metadata": {},
   "outputs": [
    {
     "data": {
      "text/plain": [
       "LogisticRegression(random_state=42)"
      ]
     },
     "execution_count": 21,
     "metadata": {},
     "output_type": "execute_result"
    }
   ],
   "source": [
    "logreg = LogisticRegression(random_state=42)\n",
    "logreg.fit(X_train_vectors, y_train)"
   ]
  },
  {
   "cell_type": "code",
   "execution_count": 22,
   "metadata": {},
   "outputs": [],
   "source": [
    "y_predict = logreg.predict(X_test_vectors)"
   ]
  },
  {
   "cell_type": "code",
   "execution_count": 23,
   "metadata": {},
   "outputs": [
    {
     "data": {
      "text/plain": [
       "0.9418181818181818"
      ]
     },
     "execution_count": 23,
     "metadata": {},
     "output_type": "execute_result"
    }
   ],
   "source": [
    "accuracy_score(y_test, y_predict)"
   ]
  },
  {
   "cell_type": "code",
   "execution_count": 24,
   "metadata": {},
   "outputs": [
    {
     "name": "stdout",
     "output_type": "stream",
     "text": [
      "              precision    recall  f1-score   support\n",
      "\n",
      "         ALL       0.94      0.77      0.85        22\n",
      "         DIR       0.91      0.94      0.93        54\n",
      "       EQUIP       0.93      1.00      0.96        27\n",
      "         ING       0.93      0.95      0.94        39\n",
      "        NAME       1.00      1.00      1.00        46\n",
      "         NUT       1.00      0.91      0.95        11\n",
      "         OBJ       1.00      0.87      0.93        15\n",
      "         QTY       0.92      1.00      0.96        34\n",
      "        TIME       0.92      0.89      0.91        27\n",
      "\n",
      "    accuracy                           0.94       275\n",
      "   macro avg       0.95      0.93      0.94       275\n",
      "weighted avg       0.94      0.94      0.94       275\n",
      "\n"
     ]
    }
   ],
   "source": [
    "print(classification_report(y_test, y_predict))"
   ]
  },
  {
   "cell_type": "code",
   "execution_count": 191,
   "metadata": {},
   "outputs": [
    {
     "data": {
      "text/plain": [
       "LinearSVC()"
      ]
     },
     "execution_count": 191,
     "metadata": {},
     "output_type": "execute_result"
    }
   ],
   "source": [
    "svm_clf = LinearSVC()\n",
    "svm_clf.fit(X_train_vectors, y_train)\n",
    "#cross_val_score(svm_clf, X_train_vectors, y_train, cv=5)"
   ]
  },
  {
   "cell_type": "code",
   "execution_count": 192,
   "metadata": {},
   "outputs": [],
   "source": [
    "y_predict = svm_clf.predict(X_test_vectors)"
   ]
  },
  {
   "cell_type": "code",
   "execution_count": 193,
   "metadata": {},
   "outputs": [
    {
     "data": {
      "text/plain": [
       "0.9661016949152542"
      ]
     },
     "execution_count": 193,
     "metadata": {},
     "output_type": "execute_result"
    }
   ],
   "source": [
    "accuracy_score(y_test, y_predict)"
   ]
  },
  {
   "cell_type": "code",
   "execution_count": 194,
   "metadata": {
    "scrolled": true
   },
   "outputs": [
    {
     "name": "stdout",
     "output_type": "stream",
     "text": [
      "              precision    recall  f1-score   support\n",
      "\n",
      "         ALL       1.00      0.85      0.92        33\n",
      "         DIR       0.96      0.98      0.97        54\n",
      "       EQUIP       0.96      1.00      0.98        26\n",
      "         ING       0.91      0.98      0.95        44\n",
      "        NAME       0.96      0.96      0.96        46\n",
      "         NUT       1.00      1.00      1.00        11\n",
      "         OBJ       0.95      0.95      0.95        20\n",
      "         QTY       1.00      1.00      1.00        34\n",
      "        TIME       1.00      1.00      1.00        27\n",
      "\n",
      "    accuracy                           0.97       295\n",
      "   macro avg       0.97      0.97      0.97       295\n",
      "weighted avg       0.97      0.97      0.97       295\n",
      "\n"
     ]
    }
   ],
   "source": [
    "print(classification_report(y_test, y_predict))"
   ]
  },
  {
   "cell_type": "markdown",
   "metadata": {},
   "source": [
    "## Fine-tuning"
   ]
  },
  {
   "cell_type": "code",
   "execution_count": 139,
   "metadata": {},
   "outputs": [
    {
     "data": {
      "text/plain": [
       "GridSearchCV(cv=5, estimator=SVC(),\n",
       "             param_grid={'C': [0.1, 1, 10, 100, 1000],\n",
       "                         'gamma': [1, 0.1, 0.01, 0.001],\n",
       "                         'kernel': ['linear', 'rbf', 'poly', 'sigmoid']})"
      ]
     },
     "execution_count": 139,
     "metadata": {},
     "output_type": "execute_result"
    }
   ],
   "source": [
    "from sklearn.model_selection import GridSearchCV\n",
    "params_grid = {\n",
    "    \"C\": [0.1,1,10,100,1000],\n",
    "    \"gamma\": [1,0.1,0.01,0.001],\n",
    "    \"kernel\": [\"linear\",\"rbf\",\"poly\",\"sigmoid\"]\n",
    "}\n",
    "svc = SVC()\n",
    "grid_search = GridSearchCV(svc, params_grid, cv=5)\n",
    "grid_search.fit(X_train_vectors, y_train)"
   ]
  },
  {
   "cell_type": "code",
   "execution_count": 140,
   "metadata": {},
   "outputs": [
    {
     "data": {
      "text/plain": [
       "0.9218391633609808"
      ]
     },
     "execution_count": 140,
     "metadata": {},
     "output_type": "execute_result"
    }
   ],
   "source": [
    "grid_search.best_score_"
   ]
  },
  {
   "cell_type": "code",
   "execution_count": 141,
   "metadata": {},
   "outputs": [
    {
     "data": {
      "text/plain": [
       "{'C': 100, 'gamma': 0.1, 'kernel': 'rbf'}"
      ]
     },
     "execution_count": 141,
     "metadata": {},
     "output_type": "execute_result"
    }
   ],
   "source": [
    "grid_search.best_params_"
   ]
  },
  {
   "cell_type": "code",
   "execution_count": 142,
   "metadata": {},
   "outputs": [],
   "source": [
    "svc = grid_search.best_estimator_"
   ]
  },
  {
   "cell_type": "code",
   "execution_count": 143,
   "metadata": {},
   "outputs": [
    {
     "data": {
      "text/plain": [
       "0.9220338983050848"
      ]
     },
     "execution_count": 143,
     "metadata": {},
     "output_type": "execute_result"
    }
   ],
   "source": [
    "y_pred = svc.predict(X_test_vectors)\n",
    "accuracy_score(y_test,y_pred)"
   ]
  },
  {
   "cell_type": "code",
   "execution_count": 144,
   "metadata": {
    "scrolled": true
   },
   "outputs": [
    {
     "name": "stdout",
     "output_type": "stream",
     "text": [
      "              precision    recall  f1-score   support\n",
      "\n",
      "         ALL       0.91      0.91      0.91        33\n",
      "         DIR       0.98      0.98      0.98        54\n",
      "       EQUIP       0.88      0.85      0.86        26\n",
      "         ING       0.79      0.86      0.83        44\n",
      "        NAME       0.89      0.91      0.90        46\n",
      "         NUT       1.00      1.00      1.00        11\n",
      "         OBJ       1.00      0.95      0.97        20\n",
      "         QTY       0.97      0.88      0.92        34\n",
      "        TIME       1.00      1.00      1.00        27\n",
      "\n",
      "    accuracy                           0.92       295\n",
      "   macro avg       0.94      0.93      0.93       295\n",
      "weighted avg       0.92      0.92      0.92       295\n",
      "\n"
     ]
    }
   ],
   "source": [
    "print(classification_report(y_test, y_pred))"
   ]
  },
  {
   "cell_type": "code",
   "execution_count": 195,
   "metadata": {},
   "outputs": [
    {
     "data": {
      "text/plain": [
       "SVC(C=10, gamma=0.1)"
      ]
     },
     "execution_count": 195,
     "metadata": {},
     "output_type": "execute_result"
    }
   ],
   "source": [
    "svm_clf = SVC(kernel='rbf', C=10, gamma=0.1)\n",
    "svm_clf.fit(X_train_vectors, y_train)"
   ]
  },
  {
   "cell_type": "code",
   "execution_count": 196,
   "metadata": {},
   "outputs": [
    {
     "data": {
      "text/plain": [
       "0.9694915254237289"
      ]
     },
     "execution_count": 196,
     "metadata": {},
     "output_type": "execute_result"
    }
   ],
   "source": [
    "y_predict = svm_clf.predict(X_test_vectors)\n",
    "accuracy_score(y_test, y_predict)"
   ]
  },
  {
   "cell_type": "code",
   "execution_count": 197,
   "metadata": {
    "scrolled": false
   },
   "outputs": [
    {
     "name": "stdout",
     "output_type": "stream",
     "text": [
      "              precision    recall  f1-score   support\n",
      "\n",
      "         ALL       0.97      0.88      0.92        33\n",
      "         DIR       0.98      0.98      0.98        54\n",
      "       EQUIP       1.00      1.00      1.00        26\n",
      "         ING       0.94      1.00      0.97        44\n",
      "        NAME       0.92      0.96      0.94        46\n",
      "         NUT       1.00      1.00      1.00        11\n",
      "         OBJ       1.00      0.95      0.97        20\n",
      "         QTY       1.00      1.00      1.00        34\n",
      "        TIME       1.00      0.96      0.98        27\n",
      "\n",
      "    accuracy                           0.97       295\n",
      "   macro avg       0.98      0.97      0.97       295\n",
      "weighted avg       0.97      0.97      0.97       295\n",
      "\n"
     ]
    }
   ],
   "source": [
    "print(classification_report(y_test,y_predict))"
   ]
  },
  {
   "cell_type": "markdown",
   "metadata": {},
   "source": [
    "## Save model"
   ]
  },
  {
   "cell_type": "code",
   "execution_count": 10,
   "metadata": {},
   "outputs": [],
   "source": [
    "import pickle\n",
    "#pickle.dump(svm_clf,open(\"model/svm_model.sav\",\"wb\"))"
   ]
  },
  {
   "cell_type": "code",
   "execution_count": 91,
   "metadata": {},
   "outputs": [],
   "source": [
    "model = pickle.load(open(\"model/svm_model.sav\",\"rb\"))"
   ]
  },
  {
   "cell_type": "code",
   "execution_count": 107,
   "metadata": {},
   "outputs": [
    {
     "data": {
      "text/plain": [
       "array(['ING'], dtype=object)"
      ]
     },
     "execution_count": 107,
     "metadata": {},
     "output_type": "execute_result"
    }
   ],
   "source": [
    "model.predict([embedding_text(clean(\"which recipes with ingredients include chicken, mushrooms?\"))])"
   ]
  },
  {
   "cell_type": "code",
   "execution_count": 92,
   "metadata": {},
   "outputs": [],
   "source": [
    "y_predict = model.predict(X_test_vectors)"
   ]
  },
  {
   "cell_type": "code",
   "execution_count": 22,
   "metadata": {},
   "outputs": [
    {
     "name": "stdout",
     "output_type": "stream",
     "text": [
      "              precision    recall  f1-score   support\n",
      "\n",
      "         ALL       0.97      0.88      0.92        33\n",
      "         DIR       0.98      0.98      0.98        54\n",
      "       EQUIP       1.00      1.00      1.00        26\n",
      "         ING       0.94      1.00      0.97        44\n",
      "        NAME       0.92      0.96      0.94        46\n",
      "         NUT       1.00      1.00      1.00        11\n",
      "         OBJ       1.00      0.95      0.97        20\n",
      "         QTY       1.00      1.00      1.00        34\n",
      "        TIME       1.00      0.96      0.98        27\n",
      "\n",
      "    accuracy                           0.97       295\n",
      "   macro avg       0.98      0.97      0.97       295\n",
      "weighted avg       0.97      0.97      0.97       295\n",
      "\n"
     ]
    }
   ],
   "source": [
    "print(classification_report(y_test, y_predict))"
   ]
  },
  {
   "cell_type": "markdown",
   "metadata": {},
   "source": [
    "## Check "
   ]
  },
  {
   "cell_type": "code",
   "execution_count": 93,
   "metadata": {},
   "outputs": [
    {
     "data": {
      "text/plain": [
       "array([[29,  0,  0,  0,  4,  0,  0,  0,  0],\n",
       "       [ 1, 53,  0,  0,  0,  0,  0,  0,  0],\n",
       "       [ 0,  0, 26,  0,  0,  0,  0,  0,  0],\n",
       "       [ 0,  0,  0, 44,  0,  0,  0,  0,  0],\n",
       "       [ 0,  0,  0,  2, 44,  0,  0,  0,  0],\n",
       "       [ 0,  0,  0,  0,  0, 11,  0,  0,  0],\n",
       "       [ 0,  0,  0,  1,  0,  0, 19,  0,  0],\n",
       "       [ 0,  0,  0,  0,  0,  0,  0, 34,  0],\n",
       "       [ 0,  1,  0,  0,  0,  0,  0,  0, 26]])"
      ]
     },
     "execution_count": 93,
     "metadata": {},
     "output_type": "execute_result"
    }
   ],
   "source": [
    "from sklearn.metrics import confusion_matrix\n",
    "conf_mx = confusion_matrix(y_test, y_predict)\n",
    "conf_mx"
   ]
  },
  {
   "cell_type": "code",
   "execution_count": 94,
   "metadata": {
    "scrolled": true
   },
   "outputs": [
    {
     "data": {
      "text/html": [
       "<div>\n",
       "<style scoped>\n",
       "    .dataframe tbody tr th:only-of-type {\n",
       "        vertical-align: middle;\n",
       "    }\n",
       "\n",
       "    .dataframe tbody tr th {\n",
       "        vertical-align: top;\n",
       "    }\n",
       "\n",
       "    .dataframe thead th {\n",
       "        text-align: right;\n",
       "    }\n",
       "</style>\n",
       "<table border=\"1\" class=\"dataframe\">\n",
       "  <thead>\n",
       "    <tr style=\"text-align: right;\">\n",
       "      <th></th>\n",
       "      <th>ALL</th>\n",
       "      <th>DIR</th>\n",
       "      <th>EQUIP</th>\n",
       "      <th>ING</th>\n",
       "      <th>NAME</th>\n",
       "      <th>NUT</th>\n",
       "      <th>OBJ</th>\n",
       "      <th>QTY</th>\n",
       "      <th>TIME</th>\n",
       "    </tr>\n",
       "  </thead>\n",
       "  <tbody>\n",
       "    <tr>\n",
       "      <th>ALL</th>\n",
       "      <td>29</td>\n",
       "      <td>0</td>\n",
       "      <td>0</td>\n",
       "      <td>0</td>\n",
       "      <td>4</td>\n",
       "      <td>0</td>\n",
       "      <td>0</td>\n",
       "      <td>0</td>\n",
       "      <td>0</td>\n",
       "    </tr>\n",
       "    <tr>\n",
       "      <th>DIR</th>\n",
       "      <td>1</td>\n",
       "      <td>53</td>\n",
       "      <td>0</td>\n",
       "      <td>0</td>\n",
       "      <td>0</td>\n",
       "      <td>0</td>\n",
       "      <td>0</td>\n",
       "      <td>0</td>\n",
       "      <td>0</td>\n",
       "    </tr>\n",
       "    <tr>\n",
       "      <th>EQUIP</th>\n",
       "      <td>0</td>\n",
       "      <td>0</td>\n",
       "      <td>26</td>\n",
       "      <td>0</td>\n",
       "      <td>0</td>\n",
       "      <td>0</td>\n",
       "      <td>0</td>\n",
       "      <td>0</td>\n",
       "      <td>0</td>\n",
       "    </tr>\n",
       "    <tr>\n",
       "      <th>ING</th>\n",
       "      <td>0</td>\n",
       "      <td>0</td>\n",
       "      <td>0</td>\n",
       "      <td>44</td>\n",
       "      <td>0</td>\n",
       "      <td>0</td>\n",
       "      <td>0</td>\n",
       "      <td>0</td>\n",
       "      <td>0</td>\n",
       "    </tr>\n",
       "    <tr>\n",
       "      <th>NAME</th>\n",
       "      <td>0</td>\n",
       "      <td>0</td>\n",
       "      <td>0</td>\n",
       "      <td>2</td>\n",
       "      <td>44</td>\n",
       "      <td>0</td>\n",
       "      <td>0</td>\n",
       "      <td>0</td>\n",
       "      <td>0</td>\n",
       "    </tr>\n",
       "    <tr>\n",
       "      <th>NUT</th>\n",
       "      <td>0</td>\n",
       "      <td>0</td>\n",
       "      <td>0</td>\n",
       "      <td>0</td>\n",
       "      <td>0</td>\n",
       "      <td>11</td>\n",
       "      <td>0</td>\n",
       "      <td>0</td>\n",
       "      <td>0</td>\n",
       "    </tr>\n",
       "    <tr>\n",
       "      <th>OBJ</th>\n",
       "      <td>0</td>\n",
       "      <td>0</td>\n",
       "      <td>0</td>\n",
       "      <td>1</td>\n",
       "      <td>0</td>\n",
       "      <td>0</td>\n",
       "      <td>19</td>\n",
       "      <td>0</td>\n",
       "      <td>0</td>\n",
       "    </tr>\n",
       "    <tr>\n",
       "      <th>QTY</th>\n",
       "      <td>0</td>\n",
       "      <td>0</td>\n",
       "      <td>0</td>\n",
       "      <td>0</td>\n",
       "      <td>0</td>\n",
       "      <td>0</td>\n",
       "      <td>0</td>\n",
       "      <td>34</td>\n",
       "      <td>0</td>\n",
       "    </tr>\n",
       "    <tr>\n",
       "      <th>TIME</th>\n",
       "      <td>0</td>\n",
       "      <td>1</td>\n",
       "      <td>0</td>\n",
       "      <td>0</td>\n",
       "      <td>0</td>\n",
       "      <td>0</td>\n",
       "      <td>0</td>\n",
       "      <td>0</td>\n",
       "      <td>26</td>\n",
       "    </tr>\n",
       "  </tbody>\n",
       "</table>\n",
       "</div>"
      ],
      "text/plain": [
       "       ALL  DIR  EQUIP  ING  NAME  NUT  OBJ  QTY  TIME\n",
       "ALL     29    0      0    0     4    0    0    0     0\n",
       "DIR      1   53      0    0     0    0    0    0     0\n",
       "EQUIP    0    0     26    0     0    0    0    0     0\n",
       "ING      0    0      0   44     0    0    0    0     0\n",
       "NAME     0    0      0    2    44    0    0    0     0\n",
       "NUT      0    0      0    0     0   11    0    0     0\n",
       "OBJ      0    0      0    1     0    0   19    0     0\n",
       "QTY      0    0      0    0     0    0    0   34     0\n",
       "TIME     0    1      0    0     0    0    0    0    26"
      ]
     },
     "execution_count": 94,
     "metadata": {},
     "output_type": "execute_result"
    }
   ],
   "source": [
    "conf_df = pd.DataFrame(conf_mx,index=['ALL','DIR','EQUIP','ING','NAME','NUT','OBJ','QTY','TIME'],columns=['ALL','DIR','EQUIP','ING','NAME','NUT','OBJ','QTY','TIME'])\n",
    "conf_df"
   ]
  },
  {
   "cell_type": "code",
   "execution_count": 95,
   "metadata": {
    "scrolled": false
   },
   "outputs": [
    {
     "data": {
      "text/html": [
       "<div>\n",
       "<style scoped>\n",
       "    .dataframe tbody tr th:only-of-type {\n",
       "        vertical-align: middle;\n",
       "    }\n",
       "\n",
       "    .dataframe tbody tr th {\n",
       "        vertical-align: top;\n",
       "    }\n",
       "\n",
       "    .dataframe thead th {\n",
       "        text-align: right;\n",
       "    }\n",
       "</style>\n",
       "<table border=\"1\" class=\"dataframe\">\n",
       "  <thead>\n",
       "    <tr style=\"text-align: right;\">\n",
       "      <th></th>\n",
       "      <th>Label</th>\n",
       "      <th>0</th>\n",
       "    </tr>\n",
       "  </thead>\n",
       "  <tbody>\n",
       "    <tr>\n",
       "      <th>658</th>\n",
       "      <td>ALL</td>\n",
       "      <td>ALL</td>\n",
       "    </tr>\n",
       "    <tr>\n",
       "      <th>853</th>\n",
       "      <td>EQUIP</td>\n",
       "      <td>EQUIP</td>\n",
       "    </tr>\n",
       "    <tr>\n",
       "      <th>1141</th>\n",
       "      <td>DIR</td>\n",
       "      <td>DIR</td>\n",
       "    </tr>\n",
       "    <tr>\n",
       "      <th>1274</th>\n",
       "      <td>QTY</td>\n",
       "      <td>QTY</td>\n",
       "    </tr>\n",
       "    <tr>\n",
       "      <th>994</th>\n",
       "      <td>EQUIP</td>\n",
       "      <td>EQUIP</td>\n",
       "    </tr>\n",
       "    <tr>\n",
       "      <th>...</th>\n",
       "      <td>...</td>\n",
       "      <td>...</td>\n",
       "    </tr>\n",
       "    <tr>\n",
       "      <th>647</th>\n",
       "      <td>OBJ</td>\n",
       "      <td>OBJ</td>\n",
       "    </tr>\n",
       "    <tr>\n",
       "      <th>800</th>\n",
       "      <td>ALL</td>\n",
       "      <td>NAME</td>\n",
       "    </tr>\n",
       "    <tr>\n",
       "      <th>1165</th>\n",
       "      <td>ALL</td>\n",
       "      <td>ALL</td>\n",
       "    </tr>\n",
       "    <tr>\n",
       "      <th>419</th>\n",
       "      <td>ING</td>\n",
       "      <td>ING</td>\n",
       "    </tr>\n",
       "    <tr>\n",
       "      <th>22</th>\n",
       "      <td>EQUIP</td>\n",
       "      <td>EQUIP</td>\n",
       "    </tr>\n",
       "  </tbody>\n",
       "</table>\n",
       "<p>295 rows × 2 columns</p>\n",
       "</div>"
      ],
      "text/plain": [
       "      Label      0\n",
       "658     ALL    ALL\n",
       "853   EQUIP  EQUIP\n",
       "1141    DIR    DIR\n",
       "1274    QTY    QTY\n",
       "994   EQUIP  EQUIP\n",
       "...     ...    ...\n",
       "647     OBJ    OBJ\n",
       "800     ALL   NAME\n",
       "1165    ALL    ALL\n",
       "419     ING    ING\n",
       "22    EQUIP  EQUIP\n",
       "\n",
       "[295 rows x 2 columns]"
      ]
     },
     "execution_count": 95,
     "metadata": {},
     "output_type": "execute_result"
    }
   ],
   "source": [
    "y_pred_ser = pd.Series(y_predict, index=y_test.index)\n",
    "label_pred = pd.concat([y_test,y_pred_ser],axis=1)\n",
    "label_pred"
   ]
  },
  {
   "cell_type": "code",
   "execution_count": 98,
   "metadata": {
    "scrolled": true
   },
   "outputs": [
    {
     "data": {
      "text/html": [
       "<div>\n",
       "<style scoped>\n",
       "    .dataframe tbody tr th:only-of-type {\n",
       "        vertical-align: middle;\n",
       "    }\n",
       "\n",
       "    .dataframe tbody tr th {\n",
       "        vertical-align: top;\n",
       "    }\n",
       "\n",
       "    .dataframe thead th {\n",
       "        text-align: right;\n",
       "    }\n",
       "</style>\n",
       "<table border=\"1\" class=\"dataframe\">\n",
       "  <thead>\n",
       "    <tr style=\"text-align: right;\">\n",
       "      <th></th>\n",
       "      <th>Question</th>\n",
       "      <th>Label</th>\n",
       "      <th>0</th>\n",
       "    </tr>\n",
       "  </thead>\n",
       "  <tbody>\n",
       "    <tr>\n",
       "      <th>1201</th>\n",
       "      <td>Which recipes to make powder, butter and salt?</td>\n",
       "      <td>NAME</td>\n",
       "      <td>ING</td>\n",
       "    </tr>\n",
       "    <tr>\n",
       "      <th>1313</th>\n",
       "      <td>what kinds of Kale Soup dishes can I fry with ...</td>\n",
       "      <td>NAME</td>\n",
       "      <td>ING</td>\n",
       "    </tr>\n",
       "  </tbody>\n",
       "</table>\n",
       "</div>"
      ],
      "text/plain": [
       "                                               Question Label    0\n",
       "1201     Which recipes to make powder, butter and salt?  NAME  ING\n",
       "1313  what kinds of Kale Soup dishes can I fry with ...  NAME  ING"
      ]
     },
     "execution_count": 98,
     "metadata": {},
     "output_type": "execute_result"
    }
   ],
   "source": [
    "comparer = label_pred[(label_pred[\"Label\"]==\"NAME\") & (label_pred[0]!=\"NAME\")]\n",
    "pd.concat([X_test.loc[comparer.index], comparer], axis=1)"
   ]
  },
  {
   "cell_type": "code",
   "execution_count": 25,
   "metadata": {},
   "outputs": [],
   "source": [
    "import seaborn as sn\n",
    "import matplotlib.pyplot as plt"
   ]
  },
  {
   "cell_type": "code",
   "execution_count": 26,
   "metadata": {},
   "outputs": [
    {
     "data": {
      "image/png": "[encoded data removed]",
      "text/plain": [
       "<Figure size 720x504 with 2 Axes>"
      ]
     },
     "metadata": {
      "needs_background": "light"
     },
     "output_type": "display_data"
    }
   ],
   "source": [
    "plt.figure(figsize = (10,7))\n",
    "sn.heatmap(conf_df, annot=True, annot_kws={\"size\":16}, cmap=\"Blues\")\n",
    "plt.show()"
   ]
  },
  {
   "cell_type": "code",
   "execution_count": 12,
   "metadata": {},
   "outputs": [],
   "source": [
    "import matplotlib.pyplot as plt #to generate the t-SNE plot\n",
    "from sklearn.manifold import TSNE #scikit learn's TSNE "
   ]
  },
  {
   "cell_type": "code",
   "execution_count": 83,
   "metadata": {},
   "outputs": [],
   "source": [
    "embedding_clusters = {\n",
    "    \"ALL\": [],\n",
    "    \"DIR\": [],\n",
    "    \"EQUIP\": [],\n",
    "    \"ING\": [],\n",
    "    \"NAME\": [],\n",
    "    \"NUT\": [],\n",
    "    \"OBJ\": [],\n",
    "    \"QTY\": [],\n",
    "    \"TIME\": []\n",
    "}\n",
    "labels = []\n",
    "for emb,label in zip(X_train_vectors,y_train):\n",
    "    if len(embedding_clusters[label]) < 30:\n",
    "        labels.append(label)\n",
    "        embedding_clusters[label].append(emb)"
   ]
  },
  {
   "cell_type": "code",
   "execution_count": 84,
   "metadata": {},
   "outputs": [
    {
     "data": {
      "text/plain": [
       "dict_keys(['ALL', 'DIR', 'EQUIP', 'ING', 'NAME', 'NUT', 'OBJ', 'QTY', 'TIME'])"
      ]
     },
     "execution_count": 84,
     "metadata": {},
     "output_type": "execute_result"
    }
   ],
   "source": [
    "embedding_clusters.keys()"
   ]
  },
  {
   "cell_type": "code",
   "execution_count": 85,
   "metadata": {},
   "outputs": [],
   "source": [
    "embedding_list = [embedding_clusters[key] for key in embedding_clusters.keys()]"
   ]
  },
  {
   "cell_type": "code",
   "execution_count": 86,
   "metadata": {},
   "outputs": [
    {
     "data": {
      "text/plain": [
       "9"
      ]
     },
     "execution_count": 86,
     "metadata": {},
     "output_type": "execute_result"
    }
   ],
   "source": [
    "len(embedding_list)"
   ]
  },
  {
   "cell_type": "code",
   "execution_count": 87,
   "metadata": {},
   "outputs": [],
   "source": [
    "embedding_list = np.array(embedding_list)"
   ]
  },
  {
   "cell_type": "code",
   "execution_count": 88,
   "metadata": {},
   "outputs": [
    {
     "data": {
      "text/plain": [
       "(9, 30, 300)"
      ]
     },
     "execution_count": 88,
     "metadata": {},
     "output_type": "execute_result"
    }
   ],
   "source": [
    "embedding_list.shape"
   ]
  },
  {
   "cell_type": "code",
   "execution_count": 89,
   "metadata": {},
   "outputs": [],
   "source": [
    "n, m, k = embedding_list.shape #geting the dimensions\n",
    "tsne_model_en_2d = TSNE(perplexity=25, n_components=2, init='pca', n_iter=1500, random_state=2020) \n",
    "embeddings_en_2d = np.array(tsne_model_en_2d.fit_transform(embedding_list.reshape(n * m, k))).reshape(n, m, 2) #reshaping it into 2d so we can visualize it"
   ]
  },
  {
   "cell_type": "code",
   "execution_count": 90,
   "metadata": {},
   "outputs": [
    {
     "data": {
      "image/png": "[encoded data removed]",
      "text/plain": [
       "<Figure size 1152x648 with 1 Axes>"
      ]
     },
     "metadata": {
      "needs_background": "light"
     },
     "output_type": "display_data"
    }
   ],
   "source": [
    "import matplotlib.cm as cm\n",
    "%matplotlib inline  \n",
    "\n",
    "#script for constructing two-dimensional graphics using Matplotlib\n",
    "def tsne_plot_similar_words(labels, embedding_clusters, a=0.7):\n",
    "    plt.figure(figsize=(16, 9))\n",
    "    \n",
    "\n",
    "    for label, embeddings in zip(labels, embedding_clusters):\n",
    "        x = embeddings[:,0]\n",
    "        y = embeddings[:,1]      \n",
    "        plt.scatter(x, y, alpha=a, label=label)\n",
    "    plt.legend(loc=4)\n",
    "    plt.grid(True)\n",
    "    plt.show()\n",
    "\n",
    "tsne_plot_similar_words(labels, embeddings_en_2d)"
   ]
  },
  {
   "cell_type": "code",
   "execution_count": null,
   "metadata": {},
   "outputs": [],
   "source": []
  }
 ],
 "metadata": {
  "kernelspec": {
   "display_name": "Python 3",
   "language": "python",
   "name": "python3"
  },
  "language_info": {
   "codemirror_mode": {
    "name": "ipython",
    "version": 3
   },
   "file_extension": ".py",
   "mimetype": "text/x-python",
   "name": "python",
   "nbconvert_exporter": "python",
   "pygments_lexer": "ipython3",
   "version": "3.8.5"
  }
 },
 "nbformat": 4,
 "nbformat_minor": 4
}
