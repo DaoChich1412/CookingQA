{
 "cells": [
  {
   "cell_type": "code",
   "execution_count": 1,
   "metadata": {},
   "outputs": [],
   "source": [
    "import module.feature_engineering as fe\n",
    "import module.utility_es as es\n",
    "import module.answer_ext as ans\n",
    "from gensim.models import Word2Vec, KeyedVectors\n",
    "import pickle\n",
    "from nltk.tokenize import word_tokenize\n",
    "import pandas as pd\n",
    "import numpy as np\n",
    "from flask import Flask, request\n",
    "import json\n",
    "from nltk.stem.porter import PorterStemmer\n",
    "from nltk.tag import pos_tag"
   ]
  },
  {
   "cell_type": "code",
   "execution_count": 2,
   "metadata": {},
   "outputs": [],
   "source": [
    "w2v_model = KeyedVectors.load_word2vec_format(\"datasets/GoogleEmbedding/GoogleNews-vectors-negative300.bin\", binary=True)"
   ]
  },
  {
   "cell_type": "code",
   "execution_count": 4,
   "metadata": {},
   "outputs": [
    {
     "name": "stdout",
     "output_type": "stream",
     "text": [
      "Connected!\n"
     ]
    },
    {
     "name": "stderr",
     "output_type": "stream",
     "text": [
      "/home/naq/anaconda3/lib/python3.8/site-packages/elasticsearch/connection/base.py:200: ElasticsearchWarning: Elasticsearch built-in security features are not enabled. Without authentication, your cluster could be accessible to anyone. See https://www.elastic.co/guide/en/elasticsearch/reference/7.13/security-minimal-setup.html to enable security.\n",
      "  warnings.warn(message, category=ElasticsearchWarning)\n"
     ]
    }
   ],
   "source": [
    "questions_clf = pickle.load(open(\"model/svm_model.sav\",\"rb\"))\n",
    "entities_ext  = pickle.load(open(\"model/crf_model.sav\",\"rb\"))\n",
    "es_obj = es.connect_elasticsearch()"
   ]
  },
  {
   "cell_type": "code",
   "execution_count": 5,
   "metadata": {},
   "outputs": [],
   "source": [
    "questions_dict = {\n",
    "    \"ALL\":   {\"source\": [\"Title\",\"Category\",\"Avatar\",\"Instructions\",\"Ingredients\",\"Serving\"\n",
    "                         ,\"Utensils\",\"Nutrition\",\"Description\"\n",
    "                         ,\"PrepTime\",\"CookTime\",\"AdditionTime\",\"TotalTime\"], \"size\":1},\n",
    "    \"DIR\":   {\"source\": [\"Title\",\"Category\",\"Avatar\",\"Instructions\",\"Serving\"], \"size\":1},\n",
    "    \"NAME\":  {\"source\": [\"Title\",\"Avatar\"],\"size\": 5},\n",
    "    \"ING\":   {\"source\": [\"Title\",\"Avatar\",\"Ingredients\"], \"size\": 1},\n",
    "    \"TIME\":  {\"source\": [\"Title\",\"Avatar\",\"PrepTime\",\"CookTime\",\"AdditionTime\",\"TotalTime\"], \"size\": 1},\n",
    "    \"OBJ\":   {\"source\": [\"Title\",\"Avatar\",\"Description\"], \"size\": 1},\n",
    "    \"NUT\":   {\"source\": [\"Title\",\"Avatar\",\"Nutrition\"], \"size\": 1},\n",
    "    \"EQUIP\": {\"source\": [\"Title\",\"Avatar\",\"Utensils\"], \"size\": 1},\n",
    "    \"QTY\":   {\"source\": [\"Title\",\"Avatar\",\"Ingredients\",\"Serving\"], \"size\": 1}\n",
    "}"
   ]
  },
  {
   "cell_type": "code",
   "execution_count": 6,
   "metadata": {},
   "outputs": [
    {
     "name": "stdout",
     "output_type": "stream",
     "text": [
      " * Serving Flask app \"__main__\" (lazy loading)\n",
      " * Environment: production\n",
      "\u001b[31m   WARNING: This is a development server. Do not use it in a production deployment.\u001b[0m\n",
      "\u001b[2m   Use a production WSGI server instead.\u001b[0m\n",
      " * Debug mode: off\n"
     ]
    },
    {
     "name": "stderr",
     "output_type": "stream",
     "text": [
      " * Running on http://127.0.0.1:8080/ (Press CTRL+C to quit)\n",
      "127.0.0.1 - - [03/Jun/2021 16:34:58] \"\u001b[37mGET / HTTP/1.1\u001b[0m\" 200 -\n",
      "127.0.0.1 - - [03/Jun/2021 16:34:59] \"\u001b[33mGET /favicon.ico HTTP/1.1\u001b[0m\" 404 -\n",
      "/home/naq/anaconda3/lib/python3.8/site-packages/elasticsearch/connection/base.py:200: ElasticsearchWarning: Elasticsearch built-in security features are not enabled. Without authentication, your cluster could be accessible to anyone. See https://www.elastic.co/guide/en/elasticsearch/reference/7.13/security-minimal-setup.html to enable security.\n",
      "  warnings.warn(message, category=ElasticsearchWarning)\n",
      "127.0.0.1 - - [03/Jun/2021 16:35:34] \"\u001b[37mPOST /answering_question HTTP/1.1\u001b[0m\" 200 -\n",
      "/home/naq/anaconda3/lib/python3.8/site-packages/elasticsearch/connection/base.py:200: ElasticsearchWarning: Elasticsearch built-in security features are not enabled. Without authentication, your cluster could be accessible to anyone. See https://www.elastic.co/guide/en/elasticsearch/reference/7.13/security-minimal-setup.html to enable security.\n",
      "  warnings.warn(message, category=ElasticsearchWarning)\n",
      "127.0.0.1 - - [03/Jun/2021 16:36:50] \"\u001b[37mPOST /answering_question HTTP/1.1\u001b[0m\" 200 -\n"
     ]
    }
   ],
   "source": [
    "app = Flask(__name__) \n",
    "\n",
    "@app.route('/')\n",
    "def index():\n",
    "    return \"Python server\" \n",
    " \n",
    "@app.route('/answering_question', methods = ['POST']) \n",
    "def answering_question(): \n",
    "    data = request.get_json() \n",
    "    question = data[\"question\"] + \" ?\"    \n",
    "    return json.dumps(ans.answering_question(w2v_model, question, questions_dict,questions_clf, entities_ext, es_obj))\n",
    " \n",
    "if __name__ == \"__main__\": \n",
    "    app.run(port=8080)"
   ]
  },
  {
   "cell_type": "code",
   "execution_count": null,
   "metadata": {},
   "outputs": [],
   "source": []
  }
 ],
 "metadata": {
  "kernelspec": {
   "display_name": "Python 3",
   "language": "python",
   "name": "python3"
  },
  "language_info": {
   "codemirror_mode": {
    "name": "ipython",
    "version": 3
   },
   "file_extension": ".py",
   "mimetype": "text/x-python",
   "name": "python",
   "nbconvert_exporter": "python",
   "pygments_lexer": "ipython3",
   "version": "3.8.5"
  }
 },
 "nbformat": 4,
 "nbformat_minor": 4
}
